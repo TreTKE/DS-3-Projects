{
 "cells": [
  {
   "cell_type": "markdown",
   "metadata": {},
   "source": [
    "# Project 4\n",
    "\n",
    "In this project, you will summarize and present your analysis from Projects 1-3."
   ]
  },
  {
   "cell_type": "markdown",
   "metadata": {},
   "source": [
    "### Intro: Write a problem Statement/ Specific Aim for this project"
   ]
  },
  {
   "cell_type": "markdown",
   "metadata": {},
   "source": [
    "Using data from the UCLA admissions office, we attempt to create a model which will predict whether a student is admitted to graduate school, based on the following variables:\n",
    "\n",
    "1. GPA\n",
    "2. GRE Score\n",
    "3. Prestige of the prospective students' undergraduate alma mater.\n"
   ]
  },
  {
   "cell_type": "markdown",
   "metadata": {},
   "source": [
    "### Dataset:  Write up a description of your data and any cleaning that was completed"
   ]
  },
  {
   "cell_type": "markdown",
   "metadata": {},
   "source": [
    "Our dataset consists of 400 observations from the UCLA admissions office. The variables collected are summarized below\n",
    "\n",
    "**Admit** - binary value, indicating whether or not a student was admitted (0 or 1) \n",
    "\n",
    "**GRE** - GRE score of prospective student (200 - 800)\n",
    "\n",
    "**GPA** - Grade point average of prospective student (0 - 4)\n",
    "\n",
    "**Prestige** - Value indicative of the prestige of a student's alma mater (1 - 4, with 1 being the best and 4 being the worst).\n",
    "\n",
    "\n",
    "In the first part of our analysis, we discovered that some entries were missing in the data. For these scenarios, we dropped any rows which contained null or NaN values. After dropped these datapoints, we ended up with a total of 397 observations.\n",
    "\n",
    "A brief summary of the data is contained in the table below, following the code.\n",
    "\n",
    "For continuous variables, the format in each cell can be interpreted as [mean (std)].\n",
    "For the Prestige ratings, we show the percentage of the population made up by a rating's admission status. For example, 13.9% of the population consists of students coming from a Prestige 4 university who were admitted."
   ]
  },
  {
   "cell_type": "code",
   "execution_count": 1,
   "metadata": {
    "collapsed": false
   },
   "outputs": [],
   "source": [
    "import numpy as np\n",
    "import pandas as pd"
   ]
  },
  {
   "cell_type": "code",
   "execution_count": 3,
   "metadata": {
    "collapsed": false
   },
   "outputs": [
    {
     "data": {
      "text/html": [
       "<div>\n",
       "<table border=\"1\" class=\"dataframe\">\n",
       "  <thead>\n",
       "    <tr style=\"text-align: right;\">\n",
       "      <th></th>\n",
       "      <th>Not Admitted</th>\n",
       "      <th>Admitted</th>\n",
       "    </tr>\n",
       "  </thead>\n",
       "  <tbody>\n",
       "    <tr>\n",
       "      <th>GPA</th>\n",
       "      <td>3.489 (0.372)</td>\n",
       "      <td>3.347 (0.376)</td>\n",
       "    </tr>\n",
       "    <tr>\n",
       "      <th>GRE</th>\n",
       "      <td>618.571 (109.257)</td>\n",
       "      <td>573.579 (116.053)</td>\n",
       "    </tr>\n",
       "    <tr>\n",
       "      <th>Prestige 1</th>\n",
       "      <td>8.3%</td>\n",
       "      <td>7.1%</td>\n",
       "    </tr>\n",
       "    <tr>\n",
       "      <th>Prestige 2</th>\n",
       "      <td>13.4%</td>\n",
       "      <td>23.9%</td>\n",
       "    </tr>\n",
       "    <tr>\n",
       "      <th>Prestige 3</th>\n",
       "      <td>7.1%</td>\n",
       "      <td>23.4%</td>\n",
       "    </tr>\n",
       "    <tr>\n",
       "      <th>Prestige 4</th>\n",
       "      <td>3.0%</td>\n",
       "      <td>13.9%</td>\n",
       "    </tr>\n",
       "  </tbody>\n",
       "</table>\n",
       "</div>"
      ],
      "text/plain": [
       "                 Not Admitted           Admitted\n",
       "GPA             3.489 (0.372)      3.347 (0.376)\n",
       "GRE         618.571 (109.257)  573.579 (116.053)\n",
       "Prestige 1               8.3%               7.1%\n",
       "Prestige 2              13.4%              23.9%\n",
       "Prestige 3               7.1%              23.4%\n",
       "Prestige 4               3.0%              13.9%"
      ]
     },
     "execution_count": 3,
     "metadata": {},
     "output_type": "execute_result"
    }
   ],
   "source": [
    "df = pd.read_csv('admissions.csv')\n",
    "df = df.dropna()\n",
    "dfa = df[df.admit==1] #admitted students\n",
    "dfn = df[df.admit==0] #non-admitted students\n",
    "\n",
    "def meanstd(dfn,var):\n",
    "    return str(np.round(dfn[var].mean(),decimals = 3)) + ' (' + str(np.round(dfn[var].std(),decimals = 3)) + ')'\n",
    "\n",
    "def makeTable(dfn):\n",
    "    tbl = pd.Series(index = ['GPA', 'GRE', 'Prestige 1', 'Prestige 2', 'Prestige 3','Prestige 4'])\n",
    "    \n",
    "    p = 397.0\n",
    "    p1 = dfn.prestige[dfn.prestige==1].count()/p\n",
    "    p2 = dfn.prestige[dfn.prestige == 2].count()/p\n",
    "    p3 = dfn.prestige[dfn.prestige == 3].count()/p\n",
    "    p4 = dfn.prestige[dfn.prestige == 4].count()/p\n",
    "    \n",
    "    [p1,p2,p3,p4] = np.round([p1,p2,p3,p4],decimals = 3)*100\n",
    "    \n",
    "    tbl['GPA'] = meanstd(dfn,'gpa')\n",
    "    tbl['GRE'] = meanstd(dfn,'gre')\n",
    "    tbl['Prestige 1'] = str(p1) + '%'\n",
    "    tbl['Prestige 2'] = str(p2) + '%'\n",
    "    tbl['Prestige 3'] = str(p3) + '%'\n",
    "    tbl['Prestige 4'] = str(p4) + '%'\n",
    "    return tbl\n",
    "    \n",
    "dfa.describe()\n",
    "tbla = makeTable(dfa)\n",
    "tbln = makeTable(dfn)\n",
    "\n",
    "tbl = pd.concat([tbla,tbln],axis = 1)\n",
    "tbl.columns =['Not Admitted','Admitted']\n",
    "tbl"
   ]
  },
  {
   "cell_type": "markdown",
   "metadata": {},
   "source": [
    "### Methods: Write up the methods used in your analysis"
   ]
  },
  {
   "cell_type": "markdown",
   "metadata": {},
   "source": [
    "The primary predictive model used in the analysis was Logistic Regression, which was achieved through the Logit() function in the statsmodels library in Python. \n",
    "\n",
    "To 'train' our model, we give it a series of datapoints with variables specified by the user. The model then fits this data to a probability curve.\n",
    "\n",
    "Given new data after training, this model returns a value between 0 and 1, which is the probability of whether or not a given data point falls into a certain category. \n",
    "\n",
    "To further investigate our model, we created a large 'fake' data set with every possible combination of GRE, GPA, and Prestige, and looked at the predicted probabilities of each."
   ]
  },
  {
   "cell_type": "markdown",
   "metadata": {},
   "source": [
    "### Results: Write up your results"
   ]
  },
  {
   "cell_type": "markdown",
   "metadata": {},
   "source": [
    "Unless you went to a school with a prestige rating of 1 or 2, the results were not very promising. \n",
    "For a hypothetical student with perfect GPA and GRE scores attending a prestige 4 school, the model's predicted probability of admission is only 36.8%, which means our model would never predict admission of any student from a prestige 4 school. \n",
    "\n",
    "It's a similar story for prestige 3: the probability of admission, even with perfect scores, is only 42% - just below the threshold of admission. \n",
    "\n",
    "This is troubling, as 12 students from prestige 4 universities were admitted, and 28 students from prestige 3 universities were admitted. This accounts for more than 10% of our data set.\n",
    "\n",
    "For Prestige 1 and 2, however, the results are more promising. The perfect student from a prestige 2 school has a predicted probability of admission of 58%, while the same student from a prestige 1 school has a probability of 73%. This result, intuitively, makes sense.\n",
    "\n",
    "It was also found that GPA and GRE, while not as important as prestige, could greatly increase a student's chances of admission. Surface plot visualizations showing their relationship to probability of admission are shown below.\n",
    "\n",
    "Note how for Prestige 1 and 2, the surfaces are more or less planar, but for prestige 3 and 4, the probability of admission increases exponentially with GPA and GRE. This indicates that being a good student, despite a less prestigious alma mater, can give a student an advantage by drawing a distinction between them and their peers."
   ]
  },
  {
   "cell_type": "markdown",
   "metadata": {},
   "source": [
    "### Visuals: Provide a table or visualization of these results"
   ]
  },
  {
   "cell_type": "markdown",
   "metadata": {},
   "source": [
    "<img src='pres1.png' height= 40% width= 40%> \n",
    "<img src='pres2.png' height=40% width=40%>\n",
    "<img src='pres3.png' height=40% width=40%>\n",
    "<img src='pres4.png' height=40% width=40%>"
   ]
  },
  {
   "cell_type": "markdown",
   "metadata": {},
   "source": [
    "### Discussion: Write up your discussion and future steps"
   ]
  },
  {
   "cell_type": "markdown",
   "metadata": {},
   "source": [
    "Because the model fails to accurately predict admission of students from prestige 3 and 4 universities, it is possible that we may have an overfitting problem. Future steps should include some sort of regularization to prevent this. \n",
    "\n",
    "Additionally, we could collect more data, and possibly add additional features, such as whether a student participated in extra curricular activities or held previous leadership roles. These may shed additional light on what other factors contribute to admission of students from prestige 3 and 4 universities.\n",
    "\n",
    "It is also possible that Logistic Regression is not the best model for this particular problem. A Random Forest may be a better model for this application, and may be less prone to overfitting."
   ]
  }
 ],
 "metadata": {
  "celltoolbar": "Raw Cell Format",
  "kernelspec": {
   "display_name": "Python 2",
   "language": "python",
   "name": "python2"
  },
  "language_info": {
   "codemirror_mode": {
    "name": "ipython",
    "version": 2
   },
   "file_extension": ".py",
   "mimetype": "text/x-python",
   "name": "python",
   "nbconvert_exporter": "python",
   "pygments_lexer": "ipython2",
   "version": "2.7.11"
  }
 },
 "nbformat": 4,
 "nbformat_minor": 0
}
